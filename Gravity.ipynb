{
  "nbformat": 4,
  "nbformat_minor": 0,
  "metadata": {
    "colab": {
      "provenance": []
    },
    "kernelspec": {
      "name": "python3",
      "display_name": "Python 3"
    },
    "language_info": {
      "name": "python"
    }
  },
  "cells": [
    {
      "cell_type": "code",
      "source": [
        "import tensorflow as tf\n",
        "import numpy as np\n",
        "\n",
        "# Constants\n",
        "g = 9.8\n",
        "m_earth = 5.972e24\n",
        "k = 6.67430e-11  # Gravitational constant\n",
        "\n",
        "# Data generation\n",
        "def generate_data(samples=1000):\n",
        "    n = np.random.randint(2, 11, size=samples)\n",
        "    r = np.random.uniform(1, 100, size=samples)\n",
        "    m_object = np.random.uniform(1, 1000, size=samples)\n",
        "    m_n = 2 * m_earth\n",
        "    g_n = n * g\n",
        "    F_n = k * (m_object * m_n) / (r ** (n - 1))\n",
        "    return n, r, m_object, g_n, F_n\n",
        "\n",
        "n, r, m_object, g_n, F_n = generate_data()\n",
        "\n",
        "# Normalize data\n",
        "inputs = np.vstack((n, r, m_object, g_n)).T\n",
        "outputs = F_n\n",
        "inputs = (inputs - inputs.mean(axis=0)) / inputs.std(axis=0)\n",
        "outputs = (outputs - outputs.mean()) / outputs.std()\n",
        "\n",
        "# Define PINN model\n",
        "class PINN(tf.keras.Model):\n",
        "    def __init__(self):\n",
        "        super(PINN, self).__init__()\n",
        "        self.hidden = [\n",
        "            tf.keras.layers.Dense(64, activation='tanh'),\n",
        "            tf.keras.layers.Dense(64, activation='tanh'),\n",
        "            tf.keras.layers.Dense(64, activation='tanh'),\n",
        "        ]\n",
        "        self.output_layer = tf.keras.layers.Dense(1, activation='linear')\n",
        "\n",
        "    def call(self, inputs):\n",
        "        x = inputs\n",
        "        for layer in self.hidden:\n",
        "            x = layer(x)\n",
        "        return self.output_layer(x)\n",
        "\n",
        "# Loss functions\n",
        "def physics_loss(model, n, r, m_object, g_n):\n",
        "    m_n = 2 * m_earth\n",
        "    F_pred = model(tf.stack([n, r, m_object, g_n], axis=1))\n",
        "    physics = F_pred - k * (m_object * m_n) / (r ** (n - 1))\n",
        "    return tf.reduce_mean(tf.square(physics))\n",
        "\n",
        "def combined_loss(model, inputs, outputs):\n",
        "    n, r, m_object, g_n = inputs[:, 0], inputs[:, 1], inputs[:, 2], inputs[:, 3]\n",
        "    data_loss = tf.reduce_mean(tf.square(model(inputs) - outputs))\n",
        "    phys_loss = physics_loss(model, n, r, m_object, g_n)\n",
        "    return data_loss + 0.1 * phys_loss  # Lambda = 0.1\n",
        "\n",
        "# Train the model\n",
        "model = PINN()\n",
        "optimizer = tf.keras.optimizers.Adam(learning_rate=0.001)\n",
        "\n",
        "@tf.function\n",
        "def train_step(inputs, outputs):\n",
        "    with tf.GradientTape() as tape:\n",
        "        loss = combined_loss(model, inputs, outputs)\n",
        "    gradients = tape.gradient(loss, model.trainable_variables)\n",
        "    optimizer.apply_gradients(zip(gradients, model.trainable_variables))\n",
        "    return loss\n",
        "\n",
        "# Training loop\n",
        "inputs_tensor = tf.convert_to_tensor(inputs, dtype=tf.float32)\n",
        "outputs_tensor = tf.convert_to_tensor(outputs, dtype=tf.float32)\n",
        "\n",
        "for epoch in range(1000):\n",
        "    loss = train_step(inputs_tensor, outputs_tensor)\n",
        "    if epoch % 100 == 0:\n",
        "        print(f\"Epoch {epoch}, Loss: {loss.numpy():.4f}\")\n"
      ],
      "metadata": {
        "id": "HG1SVwOFJTpO"
      },
      "execution_count": null,
      "outputs": []
    },
    {
      "cell_type": "code",
      "execution_count": null,
      "metadata": {
        "id": "-x6o7ZBwJSZ6"
      },
      "outputs": [],
      "source": [
        "# Predict\n",
        "predictions = model(inputs_tensor).numpy()\n",
        "\n",
        "# Plot results\n",
        "import matplotlib.pyplot as plt\n",
        "plt.scatter(outputs, predictions, alpha=0.5)\n",
        "plt.xlabel(\"Actual F_n\")\n",
        "plt.ylabel(\"Predicted F_n\")\n",
        "plt.title(\"PINN Results\")\n",
        "plt.show()\n"
      ]
    }
  ]
}